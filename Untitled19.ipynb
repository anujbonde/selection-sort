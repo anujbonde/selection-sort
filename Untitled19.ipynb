{
 "cells": [
  {
   "cell_type": "code",
   "execution_count": 5,
   "id": "64d491e1",
   "metadata": {},
   "outputs": [],
   "source": [
    "import time"
   ]
  },
  {
   "cell_type": "code",
   "execution_count": 6,
   "id": "8229a581",
   "metadata": {},
   "outputs": [],
   "source": [
    "now = time.ctime()"
   ]
  },
  {
   "cell_type": "code",
   "execution_count": null,
   "id": "d80b0476",
   "metadata": {},
   "outputs": [
    {
     "name": "stdout",
     "output_type": "stream",
     "text": [
      "You:Hi\n",
      "Hey\n"
     ]
    }
   ],
   "source": [
    "chat={\n",
    "    \"Hi\":\"Hey\",\n",
    "    \"what is current time now?\":now\n",
    "}\n",
    "while True:\n",
    "    qs=input(\"You:\")\n",
    "    \n",
    "    if(qs==\"Quit\"):\n",
    "        print(\"ChatBot: Goodbye!\")\n",
    "        break\n",
    "    else:\n",
    "     print(chat[qs])\n",
    "        "
   ]
  },
  {
   "cell_type": "code",
   "execution_count": null,
   "id": "f4a8e888",
   "metadata": {},
   "outputs": [],
   "source": []
  },
  {
   "cell_type": "code",
   "execution_count": null,
   "id": "691a0f85",
   "metadata": {},
   "outputs": [],
   "source": []
  }
 ],
 "metadata": {
  "kernelspec": {
   "display_name": "Python 3 (ipykernel)",
   "language": "python",
   "name": "python3"
  },
  "language_info": {
   "codemirror_mode": {
    "name": "ipython",
    "version": 3
   },
   "file_extension": ".py",
   "mimetype": "text/x-python",
   "name": "python",
   "nbconvert_exporter": "python",
   "pygments_lexer": "ipython3",
   "version": "3.10.9"
  }
 },
 "nbformat": 4,
 "nbformat_minor": 5
}
