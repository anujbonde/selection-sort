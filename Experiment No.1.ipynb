{
 "cells": [
  {
   "attachments": {},
   "cell_type": "markdown",
   "id": "91a58785",
   "metadata": {},
   "source": [
    "Aim:- Implement depth first search algorithm and Breadth First Search algorithm, Use an undirected graph and develop a recursive algorithm for searching all the vertices of a graph or tree data structure."
   ]
  },
  {
   "attachments": {},
   "cell_type": "markdown",
   "id": "e5770f4a",
   "metadata": {},
   "source": [
    "# BFS Code"
   ]
  },
  {
   "cell_type": "code",
   "execution_count": 1,
   "id": "a02943af",
   "metadata": {},
   "outputs": [],
   "source": [
    "graph = {'A':['B', 'E', 'C'],\n",
    "         'B':['A', 'D', 'E'],\n",
    "         'D':['B', 'E'],\n",
    "         'E':['A', 'D', 'B'],\n",
    "         'C':['A', 'F', 'G'],\n",
    "         'F':['C'],\n",
    "         'G':['C']\n",
    "         }\n",
    "visited = []\n",
    "queue = []"
   ]
  },
  {
   "cell_type": "code",
   "execution_count": 3,
   "id": "7aaa1bd2",
   "metadata": {},
   "outputs": [
    {
     "name": "stdout",
     "output_type": "stream",
     "text": [
      "The BFS Traversal is : \n",
      "A\n",
      "B\n",
      "E\n",
      "C\n",
      "D\n",
      "Node is Found !!! \n"
     ]
    }
   ],
   "source": [
    "def bfs(visited, graph, start_node, goal_node):\n",
    "    visited.append(start_node)\n",
    "    queue.append(start_node)\n",
    "    while queue:\n",
    "        m = queue.pop(0)\n",
    "        print(m)\n",
    "        if m == goal_node:\n",
    "            print(\"Node is Found !!! \")\n",
    "            break\n",
    "        else:\n",
    "            for n in graph[m]:\n",
    "                if n not in visited:\n",
    "                    visited.append(n)\n",
    "                    queue.append(n)\n",
    "\n",
    "print(\"The BFS Traversal is : \")\n",
    "bfs(visited, graph, 'A', 'D')"
   ]
  },
  {
   "attachments": {},
   "cell_type": "markdown",
   "id": "3b092ef6",
   "metadata": {},
   "source": [
    "# DFS Code"
   ]
  },
  {
   "cell_type": "code",
   "execution_count": 5,
   "id": "e1852a82",
   "metadata": {},
   "outputs": [],
   "source": [
    "graph = {'A':['B', 'E', 'C'],\n",
    "         'B':['A', 'D', 'E'],\n",
    "         'D':['B', 'E'],\n",
    "         'E':['A', 'D', 'B'],\n",
    "         'C':['A', 'F', 'G'],      \n",
    "         'F':['C'],\n",
    "         'G':['C']\n",
    "         }\n",
    "\n",
    "visited = []\n",
    "stack = []"
   ]
  },
  {
   "cell_type": "code",
   "execution_count": 6,
   "id": "fae93822",
   "metadata": {},
   "outputs": [
    {
     "name": "stdout",
     "output_type": "stream",
     "text": [
      "DFS traveral is: \n",
      "Node:  A\n",
      "Node:  C\n",
      "Node:  G\n",
      "Node:  F\n",
      "Node:  E\n",
      "Node:  D\n",
      "Goal node found!\n"
     ]
    }
   ],
   "source": [
    "def dfs(graph, start, goal):\n",
    "    print(\"DFS traveral is: \")\n",
    "    stack.append(start)\n",
    "    visited.append(start)\n",
    "    while stack:\n",
    "        node = stack[-1]\n",
    "        stack.pop()\n",
    "        print(\"Node: \", node)\n",
    "        if node == goal:\n",
    "            print(\"Goal node found!\")\n",
    "            return\n",
    "        for n in graph[node]:\n",
    "            if n not in visited:\n",
    "                visited.append(n)\n",
    "                stack.append(n)\n",
    "\n",
    "dfs(graph, 'A', \"D\")"
   ]
  }
 ],
 "metadata": {
  "kernelspec": {
   "display_name": "Python 3 (ipykernel)",
   "language": "python",
   "name": "python3"
  },
  "language_info": {
   "codemirror_mode": {
    "name": "ipython",
    "version": 3
   },
   "file_extension": ".py",
   "mimetype": "text/x-python",
   "name": "python",
   "nbconvert_exporter": "python",
   "pygments_lexer": "ipython3",
   "version": "3.9.13"
  }
 },
 "nbformat": 4,
 "nbformat_minor": 5
}
