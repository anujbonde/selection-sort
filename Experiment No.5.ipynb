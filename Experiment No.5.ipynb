{
 "cells": [
  {
   "cell_type": "markdown",
   "id": "21aba245",
   "metadata": {},
   "source": [
    "Aim:- Develop an elementary chatbot for any suitable customer interaction application."
   ]
  },
  {
   "cell_type": "code",
   "execution_count": 1,
   "id": "ef8d8a22",
   "metadata": {},
   "outputs": [],
   "source": [
    "import chatterbot"
   ]
  },
  {
   "cell_type": "code",
   "execution_count": null,
   "id": "d8c533e1",
   "metadata": {},
   "outputs": [
    {
     "name": "stdout",
     "output_type": "stream",
     "text": [
      "Welcome to the chatbot!\n",
      "You: hello\n",
      "Chatbot: Hey!\n",
      "You: how are you?\n",
      "Chatbot: I am doing well, thank you!\n",
      "You: what is your name?\n",
      "Chatbot: My name is Chatbot!\n",
      "You: what do you do?\n",
      "Chatbot: I am a customer service chatbot!\n"
     ]
    }
   ],
   "source": [
    "import random\n",
    "\n",
    "# Define possible responses\n",
    "greetings = ['hello', 'hi', 'hey']\n",
    "farewells = ['goodbye', 'bye', 'see you later']\n",
    "questions = ['how are you?', 'what is your name?', 'what do you do?']\n",
    "responses = {\n",
    "    'hello': ['Hello!', 'Hi there!', 'Hey!'],\n",
    "    'goodbye': ['Goodbye!', 'Bye!', 'See you later!'],\n",
    "    'how are you?': ['I am doing well, thank you!', 'Not too bad, thanks for asking!', 'I am great!'],\n",
    "    'what is your name?': ['My name is Chatbot!', 'You can call me Chatbot!', 'I am Chatbot!'],\n",
    "    'what do you do?': ['I am here to help you with your queries!', 'I can assist you with anything you need!', 'I am a customer service chatbot!']\n",
    "}\n",
    "\n",
    "# Define function to generate response\n",
    "def generate_response(message):\n",
    "    if message.lower() in greetings:\n",
    "        return random.choice(responses['hello'])\n",
    "    elif message.lower() in farewells:\n",
    "        return random.choice(responses['goodbye'])\n",
    "    elif message.lower() in questions:\n",
    "        return random.choice(responses[message.lower()])\n",
    "    else:\n",
    "        return \"I'm sorry, I didn't understand your message.\"\n",
    "\n",
    "# Define main function to run chatbot\n",
    "def main():\n",
    "    print(\"Welcome to the chatbot!\")\n",
    "    while True:\n",
    "        message = input(\"You: \")\n",
    "        if message.lower() == 'exit':\n",
    "            print(\"Chatbot: Goodbye!\")\n",
    "            break\n",
    "        else:\n",
    "            response = generate_response(message)\n",
    "            print(\"Chatbot:\", response)\n",
    "\n",
    "if __name__ == '__main__':\n",
    "    main()\n"
   ]
  }
 ],
 "metadata": {
  "kernelspec": {
   "display_name": "Python [conda env:old_python]",
   "language": "python",
   "name": "conda-env-old_python-py"
  },
  "language_info": {
   "codemirror_mode": {
    "name": "ipython",
    "version": 3
   },
   "file_extension": ".py",
   "mimetype": "text/x-python",
   "name": "python",
   "nbconvert_exporter": "python",
   "pygments_lexer": "ipython3",
   "version": "3.7.9"
  }
 },
 "nbformat": 4,
 "nbformat_minor": 5
}
