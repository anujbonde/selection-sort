{
 "cells": [
  {
   "cell_type": "code",
   "execution_count": null,
   "id": "ef8d8a22",
   "metadata": {},
   "outputs": [],
   "source": [
    "import chatterbot"
   ]
  },
  {
   "cell_type": "code",
   "execution_count": null,
   "id": "d8c533e1",
   "metadata": {},
   "outputs": [
    {
     "name": "stdout",
     "output_type": "stream",
     "text": [
      "Welcome to the chatbot!\n"
     ]
    }
   ],
   "source": [
    "import random\n",
    "import time\n",
    "now=time.ctime()\n",
    "greetings = ['hello', 'hi', 'hey']\n",
    "Ending = ['goodbye', 'bye', 'see you later']\n",
    "questions = ['how are you?', 'what is your name?', 'what do you do?','what is current time now?']\n",
    "responses = {\n",
    "    'hello': ['Hello!', 'Hi there!', 'Hey!'],\n",
    "    'goodbye': ['Goodbye!', 'Bye!', 'See you later!'],\n",
    "    'how are you?': ['I am doing well, thank you!', 'Not too bad, thanks for asking!', 'I am great!'],\n",
    "    'what is your name?': ['My name is Chatbot!', 'You can call me Chatbot!', 'I am Chatbot!'],\n",
    "    'what do you do?': ['I am here to help you with your queries!', 'I am a customer service chatbot!'],\n",
    "    'what is current time now?':[now]\n",
    "}\n",
    "\n",
    "def generate_response(message):\n",
    "    if message.lower() in greetings:\n",
    "        return random.choice(responses['hello'])\n",
    "    elif message.lower() in Ending:\n",
    "        return random.choice(responses['goodbye'])\n",
    "    elif message.lower() in questions:\n",
    "        return random.choice(responses[message.lower()])\n",
    "    else:\n",
    "        return \"I'm sorry, I didn't understand your message.\"\n",
    "\n",
    "def main():\n",
    "    print(\"Welcome to the chatbot!\")\n",
    "    while True:\n",
    "        message = input(\"You: \")\n",
    "        if message.lower() == 'exit':\n",
    "            print(\"Chatbot: Goodbye!\")\n",
    "            break\n",
    "        else:\n",
    "            response = generate_response(message)\n",
    "            print(\"Chatbot:\", response)\n",
    "\n",
    "if __name__ == '__main__':\n",
    "    main()\n"
   ]
  },
  {
   "cell_type": "code",
   "execution_count": null,
   "id": "ecff098c",
   "metadata": {},
   "outputs": [],
   "source": []
  },
  {
   "cell_type": "code",
   "execution_count": null,
   "id": "d0ebf9d3",
   "metadata": {},
   "outputs": [],
   "source": []
  }
 ],
 "metadata": {
  "kernelspec": {
   "display_name": "Python 3 (ipykernel)",
   "language": "python",
   "name": "python3"
  },
  "language_info": {
   "codemirror_mode": {
    "name": "ipython",
    "version": 3
   },
   "file_extension": ".py",
   "mimetype": "text/x-python",
   "name": "python",
   "nbconvert_exporter": "python",
   "pygments_lexer": "ipython3",
   "version": "3.9.7"
  }
 },
 "nbformat": 4,
 "nbformat_minor": 5
}
