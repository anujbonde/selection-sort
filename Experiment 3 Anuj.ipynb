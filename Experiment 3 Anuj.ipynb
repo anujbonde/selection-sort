{
 "cells": [
  {
   "cell_type": "markdown",
   "id": "b40a50e7",
   "metadata": {},
   "source": [
    "Aim:- Implement Greedy search algorithm For Selection Sort"
   ]
  },
  {
   "cell_type": "code",
   "execution_count": 9,
   "id": "422294df",
   "metadata": {},
   "outputs": [
    {
     "name": "stdout",
     "output_type": "stream",
     "text": [
      "Sorted Array in Ascending Order:\n",
      "[-9, -2, 0, 12, 4222]\n"
     ]
    }
   ],
   "source": [
    "def selectionSort(array, size):\n",
    "    for step in range(size):\n",
    "        min_idx = step\n",
    "        for i in range(step + 1, size):\n",
    "            if array[i] < array[min_idx]:\n",
    "                min_idx = i\n",
    "        (array[step], array[min_idx]) = (array[min_idx], array[step])\n",
    "\n",
    "data = [-2, 4222, 0, 12, -9]\n",
    "size = len(data)\n",
    "selectionSort(data, size)\n",
    "print('Sorted Array in Ascending Order:')\n",
    "print(data)"
   ]
  },
  {
   "cell_type": "code",
   "execution_count": null,
   "id": "2eda8e70",
   "metadata": {},
   "outputs": [],
   "source": []
  },
  {
   "cell_type": "code",
   "execution_count": 12,
   "id": "9423e1b0",
   "metadata": {},
   "outputs": [
    {
     "name": "stdout",
     "output_type": "stream",
     "text": [
      "Sorted Array\n",
      "1\n",
      "9\n",
      "11\n",
      "19\n",
      "63\n"
     ]
    }
   ],
   "source": [
    "A=[19,63,9,1,11]\n",
    "for i in range(len(A)):\n",
    "    min_idx=i\n",
    "    for j in range(i+1,len(A)):\n",
    "        if A[min_idx]>A[j]:\n",
    "            min_idx=j\n",
    "    A[i],A[min_idx]=A[min_idx],A[i] #swapping\n",
    "print(\"Sorted Array\")\n",
    "for i in range(len(A)):\n",
    "    print(\"%d\" %A[i])"
   ]
  },
  {
   "cell_type": "code",
   "execution_count": null,
   "id": "038aa05e",
   "metadata": {},
   "outputs": [],
   "source": []
  }
 ],
 "metadata": {
  "kernelspec": {
   "display_name": "Python 3 (ipykernel)",
   "language": "python",
   "name": "python3"
  },
  "language_info": {
   "codemirror_mode": {
    "name": "ipython",
    "version": 3
   },
   "file_extension": ".py",
   "mimetype": "text/x-python",
   "name": "python",
   "nbconvert_exporter": "python",
   "pygments_lexer": "ipython3",
   "version": "3.10.9"
  }
 },
 "nbformat": 4,
 "nbformat_minor": 5
}
